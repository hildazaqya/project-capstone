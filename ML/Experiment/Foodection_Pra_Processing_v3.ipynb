{
  "nbformat": 4,
  "nbformat_minor": 0,
  "metadata": {
    "colab": {
      "provenance": [],
      "gpuType": "T4",
      "include_colab_link": true
    },
    "kernelspec": {
      "name": "python3",
      "display_name": "Python 3"
    },
    "language_info": {
      "name": "python"
    },
    "accelerator": "GPU"
  },
  "cells": [
    {
      "cell_type": "markdown",
      "metadata": {
        "id": "view-in-github",
        "colab_type": "text"
      },
      "source": [
        "<a href=\"https://colab.research.google.com/github/hildazaqya/project-capstone/blob/main/firna/Foodection_Pra_Processing.ipynb\" target=\"_parent\"><img src=\"https://colab.research.google.com/assets/colab-badge.svg\" alt=\"Open In Colab\"/></a>"
      ]
    },
    {
      "cell_type": "code",
      "source": [
        "#this file from kaggle API personnal account\n",
        "from google.colab import files\n",
        "\n",
        "# Upload kaggle.json\n",
        "files.upload()"
      ],
      "metadata": {
        "colab": {
          "base_uri": "https://localhost:8080/",
          "height": 90
        },
        "id": "83y8AyUSTVBe",
        "outputId": "f20e3081-f558-41f0-b23f-74c2628c3006"
      },
      "execution_count": 1,
      "outputs": [
        {
          "output_type": "display_data",
          "data": {
            "text/plain": [
              "<IPython.core.display.HTML object>"
            ],
            "text/html": [
              "\n",
              "     <input type=\"file\" id=\"files-6216d5f3-402f-476a-90a5-db44af067886\" name=\"files[]\" multiple disabled\n",
              "        style=\"border:none\" />\n",
              "     <output id=\"result-6216d5f3-402f-476a-90a5-db44af067886\">\n",
              "      Upload widget is only available when the cell has been executed in the\n",
              "      current browser session. Please rerun this cell to enable.\n",
              "      </output>\n",
              "      <script>// Copyright 2017 Google LLC\n",
              "//\n",
              "// Licensed under the Apache License, Version 2.0 (the \"License\");\n",
              "// you may not use this file except in compliance with the License.\n",
              "// You may obtain a copy of the License at\n",
              "//\n",
              "//      http://www.apache.org/licenses/LICENSE-2.0\n",
              "//\n",
              "// Unless required by applicable law or agreed to in writing, software\n",
              "// distributed under the License is distributed on an \"AS IS\" BASIS,\n",
              "// WITHOUT WARRANTIES OR CONDITIONS OF ANY KIND, either express or implied.\n",
              "// See the License for the specific language governing permissions and\n",
              "// limitations under the License.\n",
              "\n",
              "/**\n",
              " * @fileoverview Helpers for google.colab Python module.\n",
              " */\n",
              "(function(scope) {\n",
              "function span(text, styleAttributes = {}) {\n",
              "  const element = document.createElement('span');\n",
              "  element.textContent = text;\n",
              "  for (const key of Object.keys(styleAttributes)) {\n",
              "    element.style[key] = styleAttributes[key];\n",
              "  }\n",
              "  return element;\n",
              "}\n",
              "\n",
              "// Max number of bytes which will be uploaded at a time.\n",
              "const MAX_PAYLOAD_SIZE = 100 * 1024;\n",
              "\n",
              "function _uploadFiles(inputId, outputId) {\n",
              "  const steps = uploadFilesStep(inputId, outputId);\n",
              "  const outputElement = document.getElementById(outputId);\n",
              "  // Cache steps on the outputElement to make it available for the next call\n",
              "  // to uploadFilesContinue from Python.\n",
              "  outputElement.steps = steps;\n",
              "\n",
              "  return _uploadFilesContinue(outputId);\n",
              "}\n",
              "\n",
              "// This is roughly an async generator (not supported in the browser yet),\n",
              "// where there are multiple asynchronous steps and the Python side is going\n",
              "// to poll for completion of each step.\n",
              "// This uses a Promise to block the python side on completion of each step,\n",
              "// then passes the result of the previous step as the input to the next step.\n",
              "function _uploadFilesContinue(outputId) {\n",
              "  const outputElement = document.getElementById(outputId);\n",
              "  const steps = outputElement.steps;\n",
              "\n",
              "  const next = steps.next(outputElement.lastPromiseValue);\n",
              "  return Promise.resolve(next.value.promise).then((value) => {\n",
              "    // Cache the last promise value to make it available to the next\n",
              "    // step of the generator.\n",
              "    outputElement.lastPromiseValue = value;\n",
              "    return next.value.response;\n",
              "  });\n",
              "}\n",
              "\n",
              "/**\n",
              " * Generator function which is called between each async step of the upload\n",
              " * process.\n",
              " * @param {string} inputId Element ID of the input file picker element.\n",
              " * @param {string} outputId Element ID of the output display.\n",
              " * @return {!Iterable<!Object>} Iterable of next steps.\n",
              " */\n",
              "function* uploadFilesStep(inputId, outputId) {\n",
              "  const inputElement = document.getElementById(inputId);\n",
              "  inputElement.disabled = false;\n",
              "\n",
              "  const outputElement = document.getElementById(outputId);\n",
              "  outputElement.innerHTML = '';\n",
              "\n",
              "  const pickedPromise = new Promise((resolve) => {\n",
              "    inputElement.addEventListener('change', (e) => {\n",
              "      resolve(e.target.files);\n",
              "    });\n",
              "  });\n",
              "\n",
              "  const cancel = document.createElement('button');\n",
              "  inputElement.parentElement.appendChild(cancel);\n",
              "  cancel.textContent = 'Cancel upload';\n",
              "  const cancelPromise = new Promise((resolve) => {\n",
              "    cancel.onclick = () => {\n",
              "      resolve(null);\n",
              "    };\n",
              "  });\n",
              "\n",
              "  // Wait for the user to pick the files.\n",
              "  const files = yield {\n",
              "    promise: Promise.race([pickedPromise, cancelPromise]),\n",
              "    response: {\n",
              "      action: 'starting',\n",
              "    }\n",
              "  };\n",
              "\n",
              "  cancel.remove();\n",
              "\n",
              "  // Disable the input element since further picks are not allowed.\n",
              "  inputElement.disabled = true;\n",
              "\n",
              "  if (!files) {\n",
              "    return {\n",
              "      response: {\n",
              "        action: 'complete',\n",
              "      }\n",
              "    };\n",
              "  }\n",
              "\n",
              "  for (const file of files) {\n",
              "    const li = document.createElement('li');\n",
              "    li.append(span(file.name, {fontWeight: 'bold'}));\n",
              "    li.append(span(\n",
              "        `(${file.type || 'n/a'}) - ${file.size} bytes, ` +\n",
              "        `last modified: ${\n",
              "            file.lastModifiedDate ? file.lastModifiedDate.toLocaleDateString() :\n",
              "                                    'n/a'} - `));\n",
              "    const percent = span('0% done');\n",
              "    li.appendChild(percent);\n",
              "\n",
              "    outputElement.appendChild(li);\n",
              "\n",
              "    const fileDataPromise = new Promise((resolve) => {\n",
              "      const reader = new FileReader();\n",
              "      reader.onload = (e) => {\n",
              "        resolve(e.target.result);\n",
              "      };\n",
              "      reader.readAsArrayBuffer(file);\n",
              "    });\n",
              "    // Wait for the data to be ready.\n",
              "    let fileData = yield {\n",
              "      promise: fileDataPromise,\n",
              "      response: {\n",
              "        action: 'continue',\n",
              "      }\n",
              "    };\n",
              "\n",
              "    // Use a chunked sending to avoid message size limits. See b/62115660.\n",
              "    let position = 0;\n",
              "    do {\n",
              "      const length = Math.min(fileData.byteLength - position, MAX_PAYLOAD_SIZE);\n",
              "      const chunk = new Uint8Array(fileData, position, length);\n",
              "      position += length;\n",
              "\n",
              "      const base64 = btoa(String.fromCharCode.apply(null, chunk));\n",
              "      yield {\n",
              "        response: {\n",
              "          action: 'append',\n",
              "          file: file.name,\n",
              "          data: base64,\n",
              "        },\n",
              "      };\n",
              "\n",
              "      let percentDone = fileData.byteLength === 0 ?\n",
              "          100 :\n",
              "          Math.round((position / fileData.byteLength) * 100);\n",
              "      percent.textContent = `${percentDone}% done`;\n",
              "\n",
              "    } while (position < fileData.byteLength);\n",
              "  }\n",
              "\n",
              "  // All done.\n",
              "  yield {\n",
              "    response: {\n",
              "      action: 'complete',\n",
              "    }\n",
              "  };\n",
              "}\n",
              "\n",
              "scope.google = scope.google || {};\n",
              "scope.google.colab = scope.google.colab || {};\n",
              "scope.google.colab._files = {\n",
              "  _uploadFiles,\n",
              "  _uploadFilesContinue,\n",
              "};\n",
              "})(self);\n",
              "</script> "
            ]
          },
          "metadata": {}
        },
        {
          "output_type": "stream",
          "name": "stdout",
          "text": [
            "Saving kaggle.json to kaggle.json\n"
          ]
        },
        {
          "output_type": "execute_result",
          "data": {
            "text/plain": [
              "{'kaggle.json': b'{\"username\":\"smjayyy\",\"key\":\"a86a230a085a77cff7a5851725589584\"}'}"
            ]
          },
          "metadata": {},
          "execution_count": 1
        }
      ]
    },
    {
      "cell_type": "code",
      "source": [
        "!mkdir -p ~/.kaggle\n",
        "!cp kaggle.json ~/.kaggle/\n",
        "!chmod 600 ~/.kaggle/kaggle.json"
      ],
      "metadata": {
        "id": "HpjMtOCITZhm"
      },
      "execution_count": 2,
      "outputs": []
    },
    {
      "cell_type": "code",
      "source": [
        "##link dataset in Kaggle.com\n",
        "!kaggle datasets download -d alinesellwia/food-freshness"
      ],
      "metadata": {
        "colab": {
          "base_uri": "https://localhost:8080/"
        },
        "id": "BUl4_PYrTeTf",
        "outputId": "13dd17b2-f549-4fdc-a0c7-ad2926d1ccd5"
      },
      "execution_count": 3,
      "outputs": [
        {
          "output_type": "stream",
          "name": "stdout",
          "text": [
            "Downloading food-freshness.zip to /content\n",
            "100% 2.67G/2.67G [02:03<00:00, 23.5MB/s]\n",
            "100% 2.67G/2.67G [02:03<00:00, 23.2MB/s]\n"
          ]
        }
      ]
    },
    {
      "cell_type": "code",
      "source": [
        "#new directory for stores temporary data\n",
        "!mkdir data"
      ],
      "metadata": {
        "id": "YQZf0c0cTnmx"
      },
      "execution_count": 4,
      "outputs": []
    },
    {
      "cell_type": "code",
      "source": [
        "#unzip the data\n",
        "!unzip -q food-freshness.zip -d /content/data"
      ],
      "metadata": {
        "id": "6V0FXBzwTu7F"
      },
      "execution_count": 5,
      "outputs": []
    },
    {
      "cell_type": "markdown",
      "source": [
        "Resize Gambar Untuk Satu Pixel Yang Sama"
      ],
      "metadata": {
        "id": "Kn_0QcRETK40"
      }
    },
    {
      "cell_type": "code",
      "source": [
        "#Train Data, Augmentation\n",
        "import tensorflow as tf\n",
        "from tensorflow.keras.preprocessing.image import ImageDataGenerator\n",
        "from tensorflow.keras.models import Sequential\n",
        "from tensorflow.keras import layers, Model, regularizers\n",
        "from tensorflow.keras.callbacks import EarlyStopping\n",
        "from tensorflow.keras.layers import Conv2D, MaxPooling2D, Flatten, Dense, GlobalAveragePooling2D, Dropout\n",
        "\n",
        "#Transfer Learning\n",
        "from tensorflow.keras.applications import ResNet50\n",
        "from tensorflow.keras.applications import ResNet101\n",
        "from tensorflow.keras.applications import MobileNetV2\n",
        "from tensorflow.keras.applications import MobileNetV3Small\n",
        "from tensorflow.keras.applications import EfficientNetB0\n",
        "\n",
        "#optimizer\n",
        "from tensorflow.keras.optimizers import Adam\n",
        "from tensorflow.keras.optimizers import RMSprop\n",
        "\n",
        "#interach with OS -> make directory\n",
        "import os\n",
        "\n",
        "#evaluation\n",
        "from sklearn.metrics import confusion_matrix, classification_report\n",
        "import numpy as np\n",
        "\n",
        "#Visualization\n",
        "%matplotlib inline\n",
        "import matplotlib.image as mpimg\n",
        "import matplotlib.pyplot as plt\n",
        "\n",
        "#for save model\n",
        "from tensorflow.keras.models import load_model\n",
        "from google.colab import files\n"
      ],
      "metadata": {
        "id": "chMKvkwpbc8O"
      },
      "execution_count": 6,
      "outputs": []
    },
    {
      "cell_type": "code",
      "source": [
        "base_dir= '/content/data/Foodection Dataset'\n",
        "\n",
        "print(\"Contents of base directory:\")\n",
        "print(os.listdir(base_dir))\n",
        "\n",
        "print(\"\\nContents of train directory:\")\n",
        "print(os.listdir(f'{base_dir}/train'))\n",
        "\n",
        "print(\"\\nContents of validation directory:\")\n",
        "print(os.listdir(f'{base_dir}/test'))"
      ],
      "metadata": {
        "colab": {
          "base_uri": "https://localhost:8080/"
        },
        "id": "nhUrD8LZbhMP",
        "outputId": "595bd5ed-c47a-4967-e3fa-7df37530c01f"
      },
      "execution_count": 7,
      "outputs": [
        {
          "output_type": "stream",
          "name": "stdout",
          "text": [
            "Contents of base directory:\n",
            "['test', 'train']\n",
            "\n",
            "Contents of train directory:\n",
            "['wortel_busuk', 'tomat_segar', 'tomat_busuk', 'jeruk_segar', 'tomat_segar_sedang', 'wortel_segar_sedang', 'wortel_segar', 'jeruk_busuk', 'jeruk_segar_sedang']\n",
            "\n",
            "Contents of validation directory:\n",
            "['wortel_busuk', 'tomat_segar', 'tomat_busuk', 'jeruk_segar', 'wortel_segar_sedang', 'wortel_segar', 'jeruk_busuk', 'jeruk_segar_sedang', 'tomat _segar_sedang']\n"
          ]
        }
      ]
    },
    {
      "cell_type": "code",
      "source": [
        "train_dir = os.path.join(base_dir, 'train')\n",
        "test_dir = os.path.join(base_dir, 'test')\n",
        "\n",
        "# Specify class of the directory train\n",
        "train_jeruksegar_dir = os.path.join(train_dir, 'jeruk_segar')\n",
        "train_wortelsegar_dir = os.path.join(train_dir, 'wortel_segar')\n",
        "train_wortelsegarsedang_dir = os.path.join(train_dir, 'wortel_segar')\n",
        "train_tomatbusuk_dir = os.path.join(train_dir, 'tomat_busuk')\n",
        "train_jeruksegarsedang_dir = os.path.join(train_dir, 'jeruk_segar_sedang')\n",
        "train_jerukbusuk_dir = os.path.join(train_dir, 'jeruk_busuk')\n",
        "train_wortelbusuk_dir = os.path.join(train_dir, 'wortel_busuk')\n",
        "train_tomatsegar_dir = os.path.join(train_dir, 'tomat_segar')\n",
        "train_tomatsegarsedang_dir = os.path.join(train_dir, 'tomat_segar_sedang')\n",
        "\n",
        "# Specify class of the directory test\n",
        "test_jeruksegar_dir = os.path.join(test_dir, 'jeruk_segar')\n",
        "test_wortelsegar_dir = os.path.join(test_dir, 'wortel_segar')\n",
        "test_wortelsegarsedang_dir = os.path.join(test_dir, 'wortel_segar_sedang')\n",
        "test_tomatbusuk_dir = os.path.join(test_dir, 'tomat_busuk')\n",
        "test_jeruksegarsedang_dir = os.path.join(test_dir, 'jeruk_segar_sedang')\n",
        "test_jerukbusuk_dir = os.path.join(test_dir, 'jeruk_busuk')\n",
        "test_wortelbusuk_dir = os.path.join(test_dir, 'wortel_busuk')\n",
        "test_tomatsegar_dir = os.path.join(test_dir, 'tomat_segar')\n",
        "test_tomatsegarsedang_dir = os.path.join(test_dir, 'tomat _segar_sedang')"
      ],
      "metadata": {
        "id": "rLdkdPfAbk9f"
      },
      "execution_count": 8,
      "outputs": []
    },
    {
      "cell_type": "code",
      "source": [
        "train_jeruksegar_fnames = os.listdir(train_jeruksegar_dir)\n",
        "train_wortelsegar_fnames = os.listdir(train_wortelsegar_dir)\n",
        "train_wortelsegarsedang_fnames = os.listdir(train_wortelsegarsedang_dir)\n",
        "train_tomatbusuk_fnames = os.listdir(train_tomatbusuk_dir)\n",
        "train_jeruksegarsedang_fnames = os.listdir(train_jeruksegarsedang_dir)\n",
        "train_jerukbusuk_fnames = os.listdir(train_jerukbusuk_dir)\n",
        "train_wortelbusuk_fnames = os.listdir(train_wortelbusuk_dir)\n",
        "train_tomatsegar_fnames = os.listdir(train_tomatsegar_dir)\n",
        "train_tomatsegarsedang_fnames = os.listdir(train_tomatsegarsedang_dir)"
      ],
      "metadata": {
        "id": "O5Ez9DRdbnlc"
      },
      "execution_count": 9,
      "outputs": []
    },
    {
      "cell_type": "code",
      "source": [
        "print('total training jeruk segar images :', len(os.listdir(train_jeruksegar_dir)))\n",
        "print('total training wortel segar images :', len(os.listdir( train_wortelsegar_dir)))\n",
        "print('total training wortel segar sedang images :', len(os.listdir(train_wortelsegarsedang_dir)))\n",
        "print('total training tomat busuk images :', len(os.listdir(train_tomatbusuk_dir)))\n",
        "print('total training jeruk segar sedang images :', len(os.listdir(train_jeruksegarsedang_dir)))\n",
        "print('total training jeruk busuk images :', len(os.listdir(train_jerukbusuk_dir)))\n",
        "print('total training wortel busuk images :', len(os.listdir(train_wortelbusuk_dir)))\n",
        "print('total training tomat segar images :', len(os.listdir(train_tomatsegar_dir)))\n",
        "print('total training tomat segar sedang images :', len(os.listdir(train_tomatsegarsedang_dir)))\n",
        "\n",
        "print('total testing jeruk segar images :', len(os.listdir(test_jeruksegar_dir)))\n",
        "print('total testing wortel segar images :', len(os.listdir(test_wortelsegar_dir)))\n",
        "print('total testing wortel segar sedang images :', len(os.listdir(test_wortelsegarsedang_dir)))\n",
        "print('total testing tomat busuk images :', len(os.listdir(test_tomatbusuk_dir)))\n",
        "print('total testing jeruk segar sedang images :', len(os.listdir(test_jeruksegarsedang_dir)))\n",
        "print('total testing jeruk busuk images :', len(os.listdir(test_jerukbusuk_dir)))\n",
        "print('total testing wortel busuk images :', len(os.listdir(test_wortelbusuk_dir)))\n",
        "print('total testing tomat segar images :', len(os.listdir(test_tomatsegar_dir)))\n",
        "print('total testing tomat segar sedang images :', len(os.listdir(test_tomatsegarsedang_dir)))"
      ],
      "metadata": {
        "colab": {
          "base_uri": "https://localhost:8080/"
        },
        "id": "hLrUXllcbqEY",
        "outputId": "d54fbe73-c552-41f3-a3e0-c3fb233df98c"
      },
      "execution_count": 10,
      "outputs": [
        {
          "output_type": "stream",
          "name": "stdout",
          "text": [
            "total training jeruk segar images : 3460\n",
            "total training wortel segar images : 4241\n",
            "total training wortel segar sedang images : 4241\n",
            "total training tomat busuk images : 1115\n",
            "total training jeruk segar sedang images : 2401\n",
            "total training jeruk busuk images : 1658\n",
            "total training wortel busuk images : 1360\n",
            "total training tomat segar images : 4745\n",
            "total training tomat segar sedang images : 3109\n",
            "total testing jeruk segar images : 1482\n",
            "total testing wortel segar images : 1818\n",
            "total testing wortel segar sedang images : 966\n",
            "total testing tomat busuk images : 478\n",
            "total testing jeruk segar sedang images : 1029\n",
            "total testing jeruk busuk images : 703\n",
            "total testing wortel busuk images : 583\n",
            "total testing tomat segar images : 2033\n",
            "total testing tomat segar sedang images : 1332\n"
          ]
        }
      ]
    },
    {
      "cell_type": "code",
      "source": [
        "img_height = 224\n",
        "img_width = 224\n",
        "img_channels = 3\n",
        "num_epochs = 20\n",
        "\n",
        "train_datagen = ImageDataGenerator( rotation_range=20,\n",
        "  width_shift_range=0.1,\n",
        "  height_shift_range=0.1,\n",
        "  shear_range=0.1,\n",
        "  zoom_range=0.1,\n",
        "  horizontal_flip=True,\n",
        "  vertical_flip=True,\n",
        "  rescale=1./255,\n",
        "  validation_split=0.2)\n",
        "\n",
        "test_datagen  = ImageDataGenerator( rescale = 1.0/255.)\n",
        "\n",
        "train_generator= train_datagen.flow_from_directory(train_dir,\n",
        "                                                    batch_size=20,\n",
        "                                                    color_mode='rgb',\n",
        "                                                    class_mode='categorical',\n",
        "                                                    target_size=(img_height, img_width))\n",
        "test_generator =  test_datagen.flow_from_directory(test_dir,\n",
        "                                                    batch_size=20,\n",
        "                                                    color_mode='rgb',\n",
        "                                                    class_mode='categorical',\n",
        "                                                    target_size=(img_height, img_width))"
      ],
      "metadata": {
        "colab": {
          "base_uri": "https://localhost:8080/"
        },
        "id": "CcF2MeQbbuZh",
        "outputId": "6b6d7e60-d75e-46f8-bd1f-5b5d26fd76d9"
      },
      "execution_count": 11,
      "outputs": [
        {
          "output_type": "stream",
          "name": "stdout",
          "text": [
            "Found 24341 images belonging to 9 classes.\n",
            "Found 10422 images belonging to 9 classes.\n"
          ]
        }
      ]
    },
    {
      "cell_type": "code",
      "source": [
        "base_model = MobileNetV2(weights='imagenet', include_top=False, input_shape=(img_height, img_width, img_channels))\n",
        "\n",
        "# Freeze the layers of the pre-trained model\n",
        "for layer in base_model.layers:\n",
        "    layer.trainable = False\n",
        "\n",
        "# Choose a specific layer for feature extraction\n",
        "x = layers.Flatten()(base_model.output)\n",
        "x = layers.Dense(128, activation='relu', kernel_regularizer=regularizers.l2(0.01))(x)\n",
        "x = layers.Dropout(0.2)(x)\n",
        "x = layers.Dense(64, activation='relu', kernel_regularizer=regularizers.l2(0.01))(x)\n",
        "x = layers.Dropout(0.2)(x)\n",
        "x = layers.Dense(9, activation='softmax')(x)  # Adjust the number of output classes\n",
        "\n",
        "model = Model(base_model.input, x)\n",
        "\n",
        "#early stop\n",
        "early_stopping = EarlyStopping(monitor='val_loss', patience=2, restore_best_weights=True)\n",
        "\n",
        "# Compile the model\n",
        "model.compile(optimizer=Adam(learning_rate=0.001), loss='categorical_crossentropy', metrics=['accuracy'])"
      ],
      "metadata": {
        "colab": {
          "base_uri": "https://localhost:8080/"
        },
        "id": "ug5uIyD6byNA",
        "outputId": "333e2c6e-85db-4fab-93a4-af10df672cc7"
      },
      "execution_count": 12,
      "outputs": [
        {
          "output_type": "stream",
          "name": "stdout",
          "text": [
            "Downloading data from https://storage.googleapis.com/tensorflow/keras-applications/mobilenet_v2/mobilenet_v2_weights_tf_dim_ordering_tf_kernels_1.0_224_no_top.h5\n",
            "9406464/9406464 [==============================] - 2s 0us/step\n"
          ]
        }
      ]
    },
    {
      "cell_type": "code",
      "source": [
        "history = model.fit(train_generator, epochs=num_epochs, validation_data=test_generator, callbacks=[early_stopping])"
      ],
      "metadata": {
        "colab": {
          "base_uri": "https://localhost:8080/"
        },
        "id": "joYyCZFpb1Px",
        "outputId": "e7d37f6e-a56c-4a55-f93e-fd57ff145889"
      },
      "execution_count": null,
      "outputs": [
        {
          "output_type": "stream",
          "name": "stdout",
          "text": [
            "Epoch 1/20\n",
            " 963/1218 [======================>.......] - ETA: 1:15 - loss: 2.7072 - accuracy: 0.6399"
          ]
        },
        {
          "output_type": "stream",
          "name": "stderr",
          "text": [
            "/usr/local/lib/python3.10/dist-packages/PIL/Image.py:996: UserWarning: Palette images with Transparency expressed in bytes should be converted to RGBA images\n",
            "  warnings.warn(\n"
          ]
        },
        {
          "output_type": "stream",
          "name": "stdout",
          "text": [
            "1218/1218 [==============================] - 397s 315ms/step - loss: 2.4713 - accuracy: 0.6593 - val_loss: 2.1238 - val_accuracy: 0.4928\n",
            "Epoch 2/20\n",
            "1218/1218 [==============================] - 380s 312ms/step - loss: 1.3844 - accuracy: 0.7366 - val_loss: 1.8944 - val_accuracy: 0.5143\n",
            "Epoch 3/20\n",
            "1218/1218 [==============================] - 378s 310ms/step - loss: 1.2802 - accuracy: 0.7441 - val_loss: 1.9045 - val_accuracy: 0.5585\n",
            "Epoch 4/20\n",
            "1218/1218 [==============================] - 377s 310ms/step - loss: 1.2400 - accuracy: 0.7503 - val_loss: 1.5517 - val_accuracy: 0.5828\n",
            "Epoch 5/20\n",
            "1218/1218 [==============================] - 375s 308ms/step - loss: 1.2322 - accuracy: 0.7490 - val_loss: 2.0189 - val_accuracy: 0.5552\n",
            "Epoch 6/20\n",
            "1218/1218 [==============================] - 380s 312ms/step - loss: 1.2541 - accuracy: 0.7353 - val_loss: 1.6789 - val_accuracy: 0.5735\n"
          ]
        }
      ]
    },
    {
      "cell_type": "code",
      "source": [
        "model1 = tf.keras.models.Sequential()\n",
        "\n",
        "model1.add(layers.Conv2D(32, (3, 3), activation='relu', input_shape=(224, 224, 3)))\n",
        "model1.add(layers.MaxPooling2D((2, 2)))\n",
        "\n",
        "model1.add(layers.Conv2D(64, (3, 3), activation='relu'))\n",
        "model1.add(layers.MaxPooling2D((2, 2)))\n",
        "\n",
        "model1.add(layers.Conv2D(128, (3, 3), activation='relu'))\n",
        "model1.add(layers.MaxPooling2D((2, 2)))\n",
        "\n",
        "model1.add(layers.Flatten())\n",
        "\n",
        "model1.add(layers.Dense(256, activation='relu'))\n",
        "model1.add(layers.Dense(9,activation='softmax'))\n",
        "\n",
        "model1.summary()"
      ],
      "metadata": {
        "colab": {
          "base_uri": "https://localhost:8080/"
        },
        "id": "iwqN28rEkpSK",
        "outputId": "9db3da52-e85a-4aaf-b317-73d5c050d442"
      },
      "execution_count": 13,
      "outputs": [
        {
          "output_type": "stream",
          "name": "stdout",
          "text": [
            "Model: \"sequential\"\n",
            "_________________________________________________________________\n",
            " Layer (type)                Output Shape              Param #   \n",
            "=================================================================\n",
            " conv2d (Conv2D)             (None, 222, 222, 32)      896       \n",
            "                                                                 \n",
            " max_pooling2d (MaxPooling2  (None, 111, 111, 32)      0         \n",
            " D)                                                              \n",
            "                                                                 \n",
            " conv2d_1 (Conv2D)           (None, 109, 109, 64)      18496     \n",
            "                                                                 \n",
            " max_pooling2d_1 (MaxPoolin  (None, 54, 54, 64)        0         \n",
            " g2D)                                                            \n",
            "                                                                 \n",
            " conv2d_2 (Conv2D)           (None, 52, 52, 128)       73856     \n",
            "                                                                 \n",
            " max_pooling2d_2 (MaxPoolin  (None, 26, 26, 128)       0         \n",
            " g2D)                                                            \n",
            "                                                                 \n",
            " flatten_1 (Flatten)         (None, 86528)             0         \n",
            "                                                                 \n",
            " dense_3 (Dense)             (None, 256)               22151424  \n",
            "                                                                 \n",
            " dense_4 (Dense)             (None, 9)                 2313      \n",
            "                                                                 \n",
            "=================================================================\n",
            "Total params: 22246985 (84.87 MB)\n",
            "Trainable params: 22246985 (84.87 MB)\n",
            "Non-trainable params: 0 (0.00 Byte)\n",
            "_________________________________________________________________\n"
          ]
        }
      ]
    },
    {
      "cell_type": "code",
      "source": [
        "early_stopping = EarlyStopping(monitor='val_loss', patience=2, restore_best_weights=True)\n",
        "\n",
        "# Compile the model\n",
        "model1.compile(optimizer=Adam(learning_rate=0.001), loss='categorical_crossentropy', metrics=['accuracy'])"
      ],
      "metadata": {
        "id": "zfAH86HXk4uP"
      },
      "execution_count": 14,
      "outputs": []
    },
    {
      "cell_type": "code",
      "source": [
        "history = model1.fit(train_generator, epochs=num_epochs, validation_data=test_generator, callbacks=[early_stopping])"
      ],
      "metadata": {
        "colab": {
          "base_uri": "https://localhost:8080/"
        },
        "id": "AqjWq2DGlKO9",
        "outputId": "9a9a0acb-ea9b-4bde-d4eb-33c7cc8ea4d2"
      },
      "execution_count": 15,
      "outputs": [
        {
          "output_type": "stream",
          "name": "stdout",
          "text": [
            "Epoch 1/20\n",
            "  16/1218 [..............................] - ETA: 7:10 - loss: 2.8644 - accuracy: 0.1625"
          ]
        },
        {
          "output_type": "stream",
          "name": "stderr",
          "text": [
            "/usr/local/lib/python3.10/dist-packages/PIL/Image.py:996: UserWarning: Palette images with Transparency expressed in bytes should be converted to RGBA images\n",
            "  warnings.warn(\n"
          ]
        },
        {
          "output_type": "stream",
          "name": "stdout",
          "text": [
            "1218/1218 [==============================] - 481s 382ms/step - loss: 1.0960 - accuracy: 0.6064 - val_loss: 2.0639 - val_accuracy: 0.4388\n",
            "Epoch 2/20\n",
            "1218/1218 [==============================] - 461s 379ms/step - loss: 0.6948 - accuracy: 0.7551 - val_loss: 2.1329 - val_accuracy: 0.4934\n",
            "Epoch 3/20\n",
            "1218/1218 [==============================] - 461s 379ms/step - loss: 0.5340 - accuracy: 0.8148 - val_loss: 2.3231 - val_accuracy: 0.4917\n"
          ]
        }
      ]
    }
  ]
}
