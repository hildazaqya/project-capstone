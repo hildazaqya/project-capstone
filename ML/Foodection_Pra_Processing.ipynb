{
  "nbformat": 4,
  "nbformat_minor": 0,
  "metadata": {
    "colab": {
      "provenance": [],
      "gpuType": "T4",
      "include_colab_link": true
    },
    "kernelspec": {
      "name": "python3",
      "display_name": "Python 3"
    },
    "language_info": {
      "name": "python"
    },
    "accelerator": "GPU"
  },
  "cells": [
    {
      "cell_type": "markdown",
      "metadata": {
        "id": "view-in-github",
        "colab_type": "text"
      },
      "source": [
        "<a href=\"https://colab.research.google.com/github/hildazaqya/project-capstone/blob/main/ML/Foodection_Pra_Processing.ipynb\" target=\"_parent\"><img src=\"https://colab.research.google.com/assets/colab-badge.svg\" alt=\"Open In Colab\"/></a>"
      ]
    },
    {
      "cell_type": "code",
      "source": [
        "#this file from kaggle API personnal account\n",
        "from google.colab import files\n",
        "\n",
        "# Upload kaggle.json\n",
        "files.upload()"
      ],
      "metadata": {
        "colab": {
          "base_uri": "https://localhost:8080/",
          "height": 91
        },
        "id": "83y8AyUSTVBe",
        "outputId": "18e733d4-b00d-402c-a91d-10477ff9faea"
      },
      "execution_count": 1,
      "outputs": [
        {
          "output_type": "display_data",
          "data": {
            "text/plain": [
              "<IPython.core.display.HTML object>"
            ],
            "text/html": [
              "\n",
              "     <input type=\"file\" id=\"files-5198b9af-8ac4-47e5-8a6f-092b83e507ea\" name=\"files[]\" multiple disabled\n",
              "        style=\"border:none\" />\n",
              "     <output id=\"result-5198b9af-8ac4-47e5-8a6f-092b83e507ea\">\n",
              "      Upload widget is only available when the cell has been executed in the\n",
              "      current browser session. Please rerun this cell to enable.\n",
              "      </output>\n",
              "      <script>// Copyright 2017 Google LLC\n",
              "//\n",
              "// Licensed under the Apache License, Version 2.0 (the \"License\");\n",
              "// you may not use this file except in compliance with the License.\n",
              "// You may obtain a copy of the License at\n",
              "//\n",
              "//      http://www.apache.org/licenses/LICENSE-2.0\n",
              "//\n",
              "// Unless required by applicable law or agreed to in writing, software\n",
              "// distributed under the License is distributed on an \"AS IS\" BASIS,\n",
              "// WITHOUT WARRANTIES OR CONDITIONS OF ANY KIND, either express or implied.\n",
              "// See the License for the specific language governing permissions and\n",
              "// limitations under the License.\n",
              "\n",
              "/**\n",
              " * @fileoverview Helpers for google.colab Python module.\n",
              " */\n",
              "(function(scope) {\n",
              "function span(text, styleAttributes = {}) {\n",
              "  const element = document.createElement('span');\n",
              "  element.textContent = text;\n",
              "  for (const key of Object.keys(styleAttributes)) {\n",
              "    element.style[key] = styleAttributes[key];\n",
              "  }\n",
              "  return element;\n",
              "}\n",
              "\n",
              "// Max number of bytes which will be uploaded at a time.\n",
              "const MAX_PAYLOAD_SIZE = 100 * 1024;\n",
              "\n",
              "function _uploadFiles(inputId, outputId) {\n",
              "  const steps = uploadFilesStep(inputId, outputId);\n",
              "  const outputElement = document.getElementById(outputId);\n",
              "  // Cache steps on the outputElement to make it available for the next call\n",
              "  // to uploadFilesContinue from Python.\n",
              "  outputElement.steps = steps;\n",
              "\n",
              "  return _uploadFilesContinue(outputId);\n",
              "}\n",
              "\n",
              "// This is roughly an async generator (not supported in the browser yet),\n",
              "// where there are multiple asynchronous steps and the Python side is going\n",
              "// to poll for completion of each step.\n",
              "// This uses a Promise to block the python side on completion of each step,\n",
              "// then passes the result of the previous step as the input to the next step.\n",
              "function _uploadFilesContinue(outputId) {\n",
              "  const outputElement = document.getElementById(outputId);\n",
              "  const steps = outputElement.steps;\n",
              "\n",
              "  const next = steps.next(outputElement.lastPromiseValue);\n",
              "  return Promise.resolve(next.value.promise).then((value) => {\n",
              "    // Cache the last promise value to make it available to the next\n",
              "    // step of the generator.\n",
              "    outputElement.lastPromiseValue = value;\n",
              "    return next.value.response;\n",
              "  });\n",
              "}\n",
              "\n",
              "/**\n",
              " * Generator function which is called between each async step of the upload\n",
              " * process.\n",
              " * @param {string} inputId Element ID of the input file picker element.\n",
              " * @param {string} outputId Element ID of the output display.\n",
              " * @return {!Iterable<!Object>} Iterable of next steps.\n",
              " */\n",
              "function* uploadFilesStep(inputId, outputId) {\n",
              "  const inputElement = document.getElementById(inputId);\n",
              "  inputElement.disabled = false;\n",
              "\n",
              "  const outputElement = document.getElementById(outputId);\n",
              "  outputElement.innerHTML = '';\n",
              "\n",
              "  const pickedPromise = new Promise((resolve) => {\n",
              "    inputElement.addEventListener('change', (e) => {\n",
              "      resolve(e.target.files);\n",
              "    });\n",
              "  });\n",
              "\n",
              "  const cancel = document.createElement('button');\n",
              "  inputElement.parentElement.appendChild(cancel);\n",
              "  cancel.textContent = 'Cancel upload';\n",
              "  const cancelPromise = new Promise((resolve) => {\n",
              "    cancel.onclick = () => {\n",
              "      resolve(null);\n",
              "    };\n",
              "  });\n",
              "\n",
              "  // Wait for the user to pick the files.\n",
              "  const files = yield {\n",
              "    promise: Promise.race([pickedPromise, cancelPromise]),\n",
              "    response: {\n",
              "      action: 'starting',\n",
              "    }\n",
              "  };\n",
              "\n",
              "  cancel.remove();\n",
              "\n",
              "  // Disable the input element since further picks are not allowed.\n",
              "  inputElement.disabled = true;\n",
              "\n",
              "  if (!files) {\n",
              "    return {\n",
              "      response: {\n",
              "        action: 'complete',\n",
              "      }\n",
              "    };\n",
              "  }\n",
              "\n",
              "  for (const file of files) {\n",
              "    const li = document.createElement('li');\n",
              "    li.append(span(file.name, {fontWeight: 'bold'}));\n",
              "    li.append(span(\n",
              "        `(${file.type || 'n/a'}) - ${file.size} bytes, ` +\n",
              "        `last modified: ${\n",
              "            file.lastModifiedDate ? file.lastModifiedDate.toLocaleDateString() :\n",
              "                                    'n/a'} - `));\n",
              "    const percent = span('0% done');\n",
              "    li.appendChild(percent);\n",
              "\n",
              "    outputElement.appendChild(li);\n",
              "\n",
              "    const fileDataPromise = new Promise((resolve) => {\n",
              "      const reader = new FileReader();\n",
              "      reader.onload = (e) => {\n",
              "        resolve(e.target.result);\n",
              "      };\n",
              "      reader.readAsArrayBuffer(file);\n",
              "    });\n",
              "    // Wait for the data to be ready.\n",
              "    let fileData = yield {\n",
              "      promise: fileDataPromise,\n",
              "      response: {\n",
              "        action: 'continue',\n",
              "      }\n",
              "    };\n",
              "\n",
              "    // Use a chunked sending to avoid message size limits. See b/62115660.\n",
              "    let position = 0;\n",
              "    do {\n",
              "      const length = Math.min(fileData.byteLength - position, MAX_PAYLOAD_SIZE);\n",
              "      const chunk = new Uint8Array(fileData, position, length);\n",
              "      position += length;\n",
              "\n",
              "      const base64 = btoa(String.fromCharCode.apply(null, chunk));\n",
              "      yield {\n",
              "        response: {\n",
              "          action: 'append',\n",
              "          file: file.name,\n",
              "          data: base64,\n",
              "        },\n",
              "      };\n",
              "\n",
              "      let percentDone = fileData.byteLength === 0 ?\n",
              "          100 :\n",
              "          Math.round((position / fileData.byteLength) * 100);\n",
              "      percent.textContent = `${percentDone}% done`;\n",
              "\n",
              "    } while (position < fileData.byteLength);\n",
              "  }\n",
              "\n",
              "  // All done.\n",
              "  yield {\n",
              "    response: {\n",
              "      action: 'complete',\n",
              "    }\n",
              "  };\n",
              "}\n",
              "\n",
              "scope.google = scope.google || {};\n",
              "scope.google.colab = scope.google.colab || {};\n",
              "scope.google.colab._files = {\n",
              "  _uploadFiles,\n",
              "  _uploadFilesContinue,\n",
              "};\n",
              "})(self);\n",
              "</script> "
            ]
          },
          "metadata": {}
        },
        {
          "output_type": "stream",
          "name": "stdout",
          "text": [
            "Saving kaggle.json to kaggle (3).json\n"
          ]
        },
        {
          "output_type": "execute_result",
          "data": {
            "text/plain": [
              "{'kaggle (3).json': b'{\"username\":\"hildaz\",\"key\":\"f0531584456defa83c8102f0f937ac8d\"}'}"
            ]
          },
          "metadata": {},
          "execution_count": 1
        }
      ]
    },
    {
      "cell_type": "code",
      "source": [
        "!mkdir -p ~/.kaggle\n",
        "!cp kaggle.json ~/.kaggle/\n",
        "!chmod 600 ~/.kaggle/kaggle.json"
      ],
      "metadata": {
        "id": "HpjMtOCITZhm"
      },
      "execution_count": 2,
      "outputs": []
    },
    {
      "cell_type": "code",
      "source": [
        "##link dataset in Kaggle.com\n",
        "!kaggle datasets download -d alinesellwia/food-freshness"
      ],
      "metadata": {
        "colab": {
          "base_uri": "https://localhost:8080/"
        },
        "id": "BUl4_PYrTeTf",
        "outputId": "53762819-e45a-47f0-fe73-59f3f568dfd7"
      },
      "execution_count": 3,
      "outputs": [
        {
          "output_type": "stream",
          "name": "stdout",
          "text": [
            "food-freshness.zip: Skipping, found more recently modified local copy (use --force to force download)\n"
          ]
        }
      ]
    },
    {
      "cell_type": "code",
      "source": [
        "#new directory for stores temporary data\n",
        "!mkdir data"
      ],
      "metadata": {
        "id": "YQZf0c0cTnmx",
        "colab": {
          "base_uri": "https://localhost:8080/"
        },
        "outputId": "b077a60a-5f84-4e47-d983-3134588e1406"
      },
      "execution_count": 4,
      "outputs": [
        {
          "output_type": "stream",
          "name": "stdout",
          "text": [
            "mkdir: cannot create directory ‘data’: File exists\n"
          ]
        }
      ]
    },
    {
      "cell_type": "code",
      "source": [
        "#unzip the data\n",
        "!unzip -q food-freshness.zip -d /content/data"
      ],
      "metadata": {
        "id": "6V0FXBzwTu7F",
        "colab": {
          "base_uri": "https://localhost:8080/"
        },
        "outputId": "a4f57372-106e-40f5-b256-d38c4d944669"
      },
      "execution_count": 5,
      "outputs": [
        {
          "output_type": "stream",
          "name": "stdout",
          "text": [
            "replace /content/data/Foodection Dataset/test/jeruk_busuk/jeruk_busuk (1).png? [y]es, [n]o, [A]ll, [N]one, [r]ename: A\n"
          ]
        }
      ]
    },
    {
      "cell_type": "markdown",
      "source": [
        "Resize Gambar Untuk Satu Pixel Yang Sama"
      ],
      "metadata": {
        "id": "Kn_0QcRETK40"
      }
    },
    {
      "cell_type": "code",
      "source": [
        "#Train Data, Augmentation\n",
        "import tensorflow as tf\n",
        "from tensorflow.keras.preprocessing.image import ImageDataGenerator\n",
        "from tensorflow.keras.models import Sequential\n",
        "from tensorflow.keras import layers, Model, regularizers\n",
        "from tensorflow.keras.callbacks import EarlyStopping\n",
        "from tensorflow.keras.layers import Conv2D, MaxPooling2D, Flatten, Dense, GlobalAveragePooling2D, Dropout\n",
        "\n",
        "#Transfer Learning\n",
        "from tensorflow.keras.applications import ResNet50\n",
        "from tensorflow.keras.applications import ResNet101\n",
        "from tensorflow.keras.applications import MobileNetV2\n",
        "from tensorflow.keras.applications import MobileNetV3Small\n",
        "from tensorflow.keras.applications import EfficientNetB0\n",
        "\n",
        "#optimizer\n",
        "from tensorflow.keras.optimizers import Adam\n",
        "from tensorflow.keras.optimizers import RMSprop\n",
        "\n",
        "#interach with OS -> make directory\n",
        "import os\n",
        "\n",
        "#evaluation\n",
        "from sklearn.metrics import confusion_matrix, classification_report\n",
        "import numpy as np\n",
        "\n",
        "#Visualization\n",
        "%matplotlib inline\n",
        "import matplotlib.image as mpimg\n",
        "import matplotlib.pyplot as plt\n",
        "\n",
        "#for save model\n",
        "from tensorflow.keras.models import load_model\n",
        "from google.colab import files\n"
      ],
      "metadata": {
        "id": "chMKvkwpbc8O"
      },
      "execution_count": 6,
      "outputs": []
    },
    {
      "cell_type": "code",
      "source": [
        "base_dir= '/content/data/Foodection Dataset'\n",
        "\n",
        "print(\"Contents of base directory:\")\n",
        "print(os.listdir(base_dir))\n",
        "\n",
        "print(\"\\nContents of train directory:\")\n",
        "print(os.listdir(f'{base_dir}/train'))\n",
        "\n",
        "print(\"\\nContents of validation directory:\")\n",
        "print(os.listdir(f'{base_dir}/test'))"
      ],
      "metadata": {
        "colab": {
          "base_uri": "https://localhost:8080/"
        },
        "id": "nhUrD8LZbhMP",
        "outputId": "256bbf08-e8e5-4fa0-ffba-ca9f96eeeff8"
      },
      "execution_count": 7,
      "outputs": [
        {
          "output_type": "stream",
          "name": "stdout",
          "text": [
            "Contents of base directory:\n",
            "['test', 'train']\n",
            "\n",
            "Contents of train directory:\n",
            "['wortel_busuk', 'tomat_segar', 'tomat_busuk', 'jeruk_segar', 'tomat_segar_sedang', 'wortel_segar_sedang', 'wortel_segar', 'jeruk_busuk', 'jeruk_segar_sedang']\n",
            "\n",
            "Contents of validation directory:\n",
            "['wortel_busuk', 'tomat_segar', 'tomat_busuk', 'jeruk_segar', 'wortel_segar_sedang', 'wortel_segar', 'jeruk_busuk', 'jeruk_segar_sedang', 'tomat _segar_sedang']\n"
          ]
        }
      ]
    },
    {
      "cell_type": "code",
      "source": [
        "train_dir = os.path.join(base_dir, 'train')\n",
        "test_dir = os.path.join(base_dir, 'test')\n",
        "\n",
        "# Specify class of the directory train\n",
        "train_jeruksegar_dir = os.path.join(train_dir, 'jeruk_segar')\n",
        "train_wortelsegar_dir = os.path.join(train_dir, 'wortel_segar')\n",
        "train_wortelsegarsedang_dir = os.path.join(train_dir, 'wortel_segar')\n",
        "train_tomatbusuk_dir = os.path.join(train_dir, 'tomat_busuk')\n",
        "train_jeruksegarsedang_dir = os.path.join(train_dir, 'jeruk_segar_sedang')\n",
        "train_jerukbusuk_dir = os.path.join(train_dir, 'jeruk_busuk')\n",
        "train_wortelbusuk_dir = os.path.join(train_dir, 'wortel_busuk')\n",
        "train_tomatsegar_dir = os.path.join(train_dir, 'tomat_segar')\n",
        "train_tomatsegarsedang_dir = os.path.join(train_dir, 'tomat_segar_sedang')\n",
        "\n",
        "# Specify class of the directory test\n",
        "test_jeruksegar_dir = os.path.join(test_dir, 'jeruk_segar')\n",
        "test_wortelsegar_dir = os.path.join(test_dir, 'wortel_segar')\n",
        "test_wortelsegarsedang_dir = os.path.join(test_dir, 'wortel_segar_sedang')\n",
        "test_tomatbusuk_dir = os.path.join(test_dir, 'tomat_busuk')\n",
        "test_jeruksegarsedang_dir = os.path.join(test_dir, 'jeruk_segar_sedang')\n",
        "test_jerukbusuk_dir = os.path.join(test_dir, 'jeruk_busuk')\n",
        "test_wortelbusuk_dir = os.path.join(test_dir, 'wortel_busuk')\n",
        "test_tomatsegar_dir = os.path.join(test_dir, 'tomat_segar')\n",
        "test_tomatsegarsedang_dir = os.path.join(test_dir, 'tomat _segar_sedang')"
      ],
      "metadata": {
        "id": "rLdkdPfAbk9f"
      },
      "execution_count": 8,
      "outputs": []
    },
    {
      "cell_type": "code",
      "source": [
        "train_jeruksegar_fnames = os.listdir(train_jeruksegar_dir)\n",
        "train_wortelsegar_fnames = os.listdir(train_wortelsegar_dir)\n",
        "train_wortelsegarsedang_fnames = os.listdir(train_wortelsegarsedang_dir)\n",
        "train_tomatbusuk_fnames = os.listdir(train_tomatbusuk_dir)\n",
        "train_jeruksegarsedang_fnames = os.listdir(train_jeruksegarsedang_dir)\n",
        "train_jerukbusuk_fnames = os.listdir(train_jerukbusuk_dir)\n",
        "train_wortelbusuk_fnames = os.listdir(train_wortelbusuk_dir)\n",
        "train_tomatsegar_fnames = os.listdir(train_tomatsegar_dir)\n",
        "train_tomatsegarsedang_fnames = os.listdir(train_tomatsegarsedang_dir)"
      ],
      "metadata": {
        "id": "O5Ez9DRdbnlc"
      },
      "execution_count": 9,
      "outputs": []
    },
    {
      "cell_type": "code",
      "source": [
        "print('total training jeruk segar images :', len(os.listdir(train_jeruksegar_dir)))\n",
        "print('total training wortel segar images :', len(os.listdir( train_wortelsegar_dir)))\n",
        "print('total training wortel segar sedang images :', len(os.listdir(train_wortelsegarsedang_dir)))\n",
        "print('total training tomat busuk images :', len(os.listdir(train_tomatbusuk_dir)))\n",
        "print('total training jeruk segar sedang images :', len(os.listdir(train_jeruksegarsedang_dir)))\n",
        "print('total training jeruk busuk images :', len(os.listdir(train_jerukbusuk_dir)))\n",
        "print('total training wortel busuk images :', len(os.listdir(train_wortelbusuk_dir)))\n",
        "print('total training tomat segar images :', len(os.listdir(train_tomatsegar_dir)))\n",
        "print('total training tomat segar sedang images :', len(os.listdir(train_tomatsegarsedang_dir)))\n",
        "\n",
        "print('total testing jeruk segar images :', len(os.listdir(test_jeruksegar_dir)))\n",
        "print('total testing wortel segar images :', len(os.listdir(test_wortelsegar_dir)))\n",
        "print('total testing wortel segar sedang images :', len(os.listdir(test_wortelsegarsedang_dir)))\n",
        "print('total testing tomat busuk images :', len(os.listdir(test_tomatbusuk_dir)))\n",
        "print('total testing jeruk segar sedang images :', len(os.listdir(test_jeruksegarsedang_dir)))\n",
        "print('total testing jeruk busuk images :', len(os.listdir(test_jerukbusuk_dir)))\n",
        "print('total testing wortel busuk images :', len(os.listdir(test_wortelbusuk_dir)))\n",
        "print('total testing tomat segar images :', len(os.listdir(test_tomatsegar_dir)))\n",
        "print('total testing tomat segar sedang images :', len(os.listdir(test_tomatsegarsedang_dir)))"
      ],
      "metadata": {
        "colab": {
          "base_uri": "https://localhost:8080/"
        },
        "id": "hLrUXllcbqEY",
        "outputId": "c6491e00-36bf-4395-b1a2-f96fc333e4be"
      },
      "execution_count": 10,
      "outputs": [
        {
          "output_type": "stream",
          "name": "stdout",
          "text": [
            "total training jeruk segar images : 3460\n",
            "total training wortel segar images : 4241\n",
            "total training wortel segar sedang images : 4241\n",
            "total training tomat busuk images : 1115\n",
            "total training jeruk segar sedang images : 2401\n",
            "total training jeruk busuk images : 1658\n",
            "total training wortel busuk images : 1360\n",
            "total training tomat segar images : 4745\n",
            "total training tomat segar sedang images : 3109\n",
            "total testing jeruk segar images : 1482\n",
            "total testing wortel segar images : 1818\n",
            "total testing wortel segar sedang images : 966\n",
            "total testing tomat busuk images : 478\n",
            "total testing jeruk segar sedang images : 1029\n",
            "total testing jeruk busuk images : 703\n",
            "total testing wortel busuk images : 583\n",
            "total testing tomat segar images : 2033\n",
            "total testing tomat segar sedang images : 1332\n"
          ]
        }
      ]
    },
    {
      "cell_type": "code",
      "source": [
        "from PIL import Image\n",
        "\n",
        "# Path to the directory containing the original images\n",
        "input_directory = os.path.join(base_dir, 'train')\n",
        "# Path to the directory where you want to save resized images\n",
        "output_directory = os.path.join(base_dir, 'train_resize')\n",
        "\n",
        "# Ensure the output directory exists\n",
        "os.makedirs(output_directory, exist_ok=True)\n",
        "\n",
        "# List all files in the input directory\n",
        "files = os.listdir(input_directory)\n",
        "\n",
        "# Desired dimensions for resizing\n",
        "resized_dimensions = (128, 128)\n",
        "\n",
        "# Loop through each file and resize\n",
        "for file in files:\n",
        "    # Construct the full file path\n",
        "    input_path = os.path.join(input_directory, file)\n",
        "\n",
        "    # Check if the entity is a file (not a directory)\n",
        "    if os.path.isfile(input_path):\n",
        "        # Open the image using PIL\n",
        "        img = Image.open(input_path)\n",
        "\n",
        "        # Resize the image to the desired dimensions\n",
        "        resized_img = img.resize(resized_dimensions)\n",
        "\n",
        "        # Construct the output file path\n",
        "        output_path = os.path.join(output_directory, file)\n",
        "\n",
        "        # Save the resized image\n",
        "        resized_img.save(output_path)\n",
        "\n",
        "print(\"Image resizing complete.\")"
      ],
      "metadata": {
        "colab": {
          "base_uri": "https://localhost:8080/"
        },
        "id": "vTOXuVbV6_2w",
        "outputId": "15d43928-ffe5-4e0a-8fa1-10dc18253721"
      },
      "execution_count": 36,
      "outputs": [
        {
          "output_type": "stream",
          "name": "stdout",
          "text": [
            "Image resizing complete.\n"
          ]
        }
      ]
    },
    {
      "cell_type": "code",
      "source": [
        "# Print the contents of the test_resize directory\n",
        "print(\"Contents of test_resize directory:\")\n",
        "for root, dirs, files in os.walk(test_dir_resize):\n",
        "    print(f\"{root} contains {len(files)} files\")"
      ],
      "metadata": {
        "colab": {
          "base_uri": "https://localhost:8080/"
        },
        "id": "Bj9wrZpY_kfP",
        "outputId": "3eece44f-8404-45bf-ddd1-e0c4a398c2bc"
      },
      "execution_count": 39,
      "outputs": [
        {
          "output_type": "stream",
          "name": "stdout",
          "text": [
            "Contents of test_resize directory:\n",
            "/content/data/Foodection Dataset/test_resize contains 0 files\n"
          ]
        }
      ]
    },
    {
      "cell_type": "code",
      "source": [
        "from PIL import Image\n",
        "import os\n",
        "\n",
        "# Path to the directory containing the original images\n",
        "input_directory = os.path.join(base_dir, 'test')\n",
        "# Path to the directory where you want to save resized images\n",
        "output_directory = os.path.join(base_dir, 'test_resize')\n",
        "\n",
        "# Ensure the output directory exists\n",
        "os.makedirs(output_directory, exist_ok=True)\n",
        "\n",
        "# Desired dimensions for resizing\n",
        "resized_dimensions = (128, 128)\n",
        "\n",
        "# Loop through each file and resize\n",
        "for file in os.listdir(input_directory):\n",
        "    # Construct the full file path\n",
        "    input_path = os.path.join(input_directory, file)\n",
        "\n",
        "    # Check if the entity is a file (not a directory)\n",
        "    if os.path.isfile(input_path):\n",
        "        # Open the image using PIL\n",
        "        img = Image.open(input_path)\n",
        "\n",
        "        # Resize the image to the desired dimensions\n",
        "        resized_img = img.resize(resized_dimensions)\n",
        "\n",
        "        # Construct the output file path\n",
        "        output_path = os.path.join(output_directory, file)\n",
        "\n",
        "        # Save the resized image\n",
        "        resized_img.save(output_path)\n",
        "\n",
        "print(\"Image resizing complete.\")"
      ],
      "metadata": {
        "colab": {
          "base_uri": "https://localhost:8080/"
        },
        "id": "i6XYLRlE8FMM",
        "outputId": "57c52f04-9e93-4bd2-f065-3879b26b06a3"
      },
      "execution_count": 38,
      "outputs": [
        {
          "output_type": "stream",
          "name": "stdout",
          "text": [
            "Image resizing complete.\n"
          ]
        }
      ]
    },
    {
      "cell_type": "code",
      "source": [
        "# Print the contents of the test_resize directory\n",
        "print(\"Contents of test_resize directory:\")\n",
        "for root, dirs, files in os.walk(train_dir_resize):\n",
        "    print(f\"{root} contains {len(files)} files\")"
      ],
      "metadata": {
        "colab": {
          "base_uri": "https://localhost:8080/"
        },
        "id": "hq2qSzvY_TP2",
        "outputId": "978399d2-1863-4e99-9537-f29d9251c291"
      },
      "execution_count": 37,
      "outputs": [
        {
          "output_type": "stream",
          "name": "stdout",
          "text": [
            "Contents of test_resize directory:\n",
            "/content/data/Foodection Dataset/train_resize contains 0 files\n"
          ]
        }
      ]
    },
    {
      "cell_type": "code",
      "source": [
        "train_dir_resize = os.path.join(base_dir, 'train_resize')\n",
        "test_dir_resize = os.path.join(base_dir, 'test_resize')"
      ],
      "metadata": {
        "id": "qnDU-G_E-BTF"
      },
      "execution_count": 33,
      "outputs": []
    },
    {
      "cell_type": "code",
      "source": [
        "img_height = 128\n",
        "img_width = 128\n",
        "img_channels = 3\n",
        "num_epochs = 20\n",
        "\n",
        "train_datagen = ImageDataGenerator( rotation_range=20,\n",
        "  width_shift_range=0.1,\n",
        "  height_shift_range=0.1,\n",
        "  shear_range=0.1,\n",
        "  zoom_range=0.1,\n",
        "  horizontal_flip=True,\n",
        "  vertical_flip=True,\n",
        "  rescale=1./255,\n",
        "  validation_split=0.2)\n",
        "\n",
        "test_datagen  = ImageDataGenerator( rescale = 1.0/255.)\n",
        "\n",
        "train_generator= train_datagen.flow_from_directory(train_dir,\n",
        "                                                    batch_size=20,\n",
        "                                                    color_mode='rgb',\n",
        "                                                    class_mode='categorical',\n",
        "                                                    target_size=(img_height, img_width))\n",
        "test_generator =  test_datagen.flow_from_directory(test_dir,\n",
        "                                                    batch_size=20,\n",
        "                                                    color_mode='rgb',\n",
        "                                                    class_mode='categorical',\n",
        "                                                    target_size=(img_height, img_width))"
      ],
      "metadata": {
        "colab": {
          "base_uri": "https://localhost:8080/"
        },
        "id": "CcF2MeQbbuZh",
        "outputId": "27686611-3718-4290-809c-037cab611432"
      },
      "execution_count": 41,
      "outputs": [
        {
          "output_type": "stream",
          "name": "stdout",
          "text": [
            "Found 24341 images belonging to 9 classes.\n",
            "Found 10422 images belonging to 9 classes.\n"
          ]
        }
      ]
    },
    {
      "cell_type": "code",
      "source": [
        "base_model = MobileNetV2(weights='imagenet', include_top=False, input_shape=(img_height, img_width, img_channels))\n",
        "\n",
        "# Freeze the layers of the pre-trained model\n",
        "for layer in base_model.layers:\n",
        "    layer.trainable = False\n",
        "\n",
        "# Choose a specific layer for feature extraction\n",
        "x = layers.Flatten()(base_model.output)\n",
        "x = layers.Dense(128, activation='relu', kernel_regularizer=regularizers.l2(0.01))(x)\n",
        "x = layers.Dropout(0.2)(x)\n",
        "x = layers.Dense(64, activation='relu', kernel_regularizer=regularizers.l2(0.01))(x)\n",
        "x = layers.Dropout(0.2)(x)\n",
        "x = layers.Dense(9, activation='softmax')(x)  # Adjust the number of output classes\n",
        "\n",
        "model = Model(base_model.input, x)\n",
        "\n",
        "#early stop\n",
        "early_stopping = EarlyStopping(monitor='val_loss', patience=2, restore_best_weights=True)\n",
        "\n",
        "# Compile the model\n",
        "model.compile(optimizer=Adam(learning_rate=0.001), loss='categorical_crossentropy', metrics=['accuracy'])"
      ],
      "metadata": {
        "id": "ug5uIyD6byNA",
        "colab": {
          "base_uri": "https://localhost:8080/"
        },
        "outputId": "a70a10b1-9369-4766-9863-597a94787cc3"
      },
      "execution_count": 42,
      "outputs": [
        {
          "output_type": "stream",
          "name": "stdout",
          "text": [
            "Downloading data from https://storage.googleapis.com/tensorflow/keras-applications/mobilenet_v2/mobilenet_v2_weights_tf_dim_ordering_tf_kernels_1.0_128_no_top.h5\n",
            "9406464/9406464 [==============================] - 0s 0us/step\n"
          ]
        }
      ]
    },
    {
      "cell_type": "code",
      "source": [
        "history = model.fit(train_generator, epochs=num_epochs, validation_data=test_generator, callbacks=[early_stopping])"
      ],
      "metadata": {
        "colab": {
          "base_uri": "https://localhost:8080/"
        },
        "id": "joYyCZFpb1Px",
        "outputId": "f98f6b6f-ba90-42b4-b929-3e6df1e2051c"
      },
      "execution_count": 43,
      "outputs": [
        {
          "output_type": "stream",
          "name": "stdout",
          "text": [
            "Epoch 1/20\n",
            " 779/1218 [==================>...........] - ETA: 1:12 - loss: 1.8620 - accuracy: 0.7438"
          ]
        },
        {
          "output_type": "stream",
          "name": "stderr",
          "text": [
            "/usr/local/lib/python3.10/dist-packages/PIL/Image.py:996: UserWarning: Palette images with Transparency expressed in bytes should be converted to RGBA images\n",
            "  warnings.warn(\n"
          ]
        },
        {
          "output_type": "stream",
          "name": "stdout",
          "text": [
            "1218/1218 [==============================] - 287s 232ms/step - loss: 1.5929 - accuracy: 0.7682 - val_loss: 1.6599 - val_accuracy: 0.5932\n",
            "Epoch 2/20\n",
            "1218/1218 [==============================] - 252s 207ms/step - loss: 0.9910 - accuracy: 0.8200 - val_loss: 1.7981 - val_accuracy: 0.5686\n",
            "Epoch 3/20\n",
            "1218/1218 [==============================] - 254s 209ms/step - loss: 0.9538 - accuracy: 0.8197 - val_loss: 1.7649 - val_accuracy: 0.5856\n"
          ]
        }
      ]
    },
    {
      "cell_type": "code",
      "source": [
        "model1 = tf.keras.models.Sequential()\n",
        "\n",
        "model1.add(layers.Conv2D(32, (3, 3), activation='relu', input_shape=(224, 224, 3)))\n",
        "model1.add(layers.MaxPooling2D((2, 2)))\n",
        "\n",
        "model1.add(layers.Conv2D(64, (3, 3), activation='relu'))\n",
        "model1.add(layers.MaxPooling2D((2, 2)))\n",
        "\n",
        "model1.add(layers.Conv2D(128, (3, 3), activation='relu'))\n",
        "model1.add(layers.MaxPooling2D((2, 2)))\n",
        "\n",
        "model1.add(layers.Flatten())\n",
        "\n",
        "model1.add(layers.Dense(256, activation='relu'))\n",
        "model1.add(layers.Dense(9,activation='softmax'))\n",
        "\n",
        "model1.summary()"
      ],
      "metadata": {
        "id": "iwqN28rEkpSK",
        "colab": {
          "base_uri": "https://localhost:8080/"
        },
        "outputId": "f6f789b0-6e5e-4b96-bbda-32aed913c95b"
      },
      "execution_count": 14,
      "outputs": [
        {
          "output_type": "stream",
          "name": "stdout",
          "text": [
            "Model: \"sequential\"\n",
            "_________________________________________________________________\n",
            " Layer (type)                Output Shape              Param #   \n",
            "=================================================================\n",
            " conv2d (Conv2D)             (None, 222, 222, 32)      896       \n",
            "                                                                 \n",
            " max_pooling2d (MaxPooling2  (None, 111, 111, 32)      0         \n",
            " D)                                                              \n",
            "                                                                 \n",
            " conv2d_1 (Conv2D)           (None, 109, 109, 64)      18496     \n",
            "                                                                 \n",
            " max_pooling2d_1 (MaxPoolin  (None, 54, 54, 64)        0         \n",
            " g2D)                                                            \n",
            "                                                                 \n",
            " conv2d_2 (Conv2D)           (None, 52, 52, 128)       73856     \n",
            "                                                                 \n",
            " max_pooling2d_2 (MaxPoolin  (None, 26, 26, 128)       0         \n",
            " g2D)                                                            \n",
            "                                                                 \n",
            " flatten_1 (Flatten)         (None, 86528)             0         \n",
            "                                                                 \n",
            " dense_3 (Dense)             (None, 256)               22151424  \n",
            "                                                                 \n",
            " dense_4 (Dense)             (None, 9)                 2313      \n",
            "                                                                 \n",
            "=================================================================\n",
            "Total params: 22246985 (84.87 MB)\n",
            "Trainable params: 22246985 (84.87 MB)\n",
            "Non-trainable params: 0 (0.00 Byte)\n",
            "_________________________________________________________________\n"
          ]
        }
      ]
    },
    {
      "cell_type": "code",
      "source": [
        "early_stopping = EarlyStopping(monitor='val_loss', patience=2, restore_best_weights=True)\n",
        "\n",
        "# Compile the model\n",
        "model1.compile(optimizer=Adam(learning_rate=0.001), loss='categorical_crossentropy', metrics=['accuracy'])"
      ],
      "metadata": {
        "id": "zfAH86HXk4uP"
      },
      "execution_count": 15,
      "outputs": []
    },
    {
      "cell_type": "code",
      "source": [
        "history = model1.fit(train_generator, epochs=num_epochs, validation_data=test_generator, callbacks=[early_stopping])"
      ],
      "metadata": {
        "id": "AqjWq2DGlKO9",
        "colab": {
          "base_uri": "https://localhost:8080/"
        },
        "outputId": "ce3cd21d-7baa-45c6-c5b6-5b832800d246"
      },
      "execution_count": 16,
      "outputs": [
        {
          "output_type": "stream",
          "name": "stdout",
          "text": [
            "Epoch 1/20\n",
            "1218/1218 [==============================] - 477s 389ms/step - loss: 1.0686 - accuracy: 0.6167 - val_loss: 1.8854 - val_accuracy: 0.4616\n",
            "Epoch 2/20\n",
            "1218/1218 [==============================] - 448s 368ms/step - loss: 0.6640 - accuracy: 0.7684 - val_loss: 2.1513 - val_accuracy: 0.4770\n",
            "Epoch 3/20\n",
            "1218/1218 [==============================] - 444s 365ms/step - loss: 0.5419 - accuracy: 0.8116 - val_loss: 2.1108 - val_accuracy: 0.5197\n"
          ]
        }
      ]
    }
  ]
}