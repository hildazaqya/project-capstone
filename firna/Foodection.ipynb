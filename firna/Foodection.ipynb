{
  "nbformat": 4,
  "nbformat_minor": 0,
  "metadata": {
    "colab": {
      "provenance": [],
      "gpuType": "T4",
      "authorship_tag": "ABX9TyNO44R0h2mR+0FTIY42L2Om",
      "include_colab_link": true
    },
    "kernelspec": {
      "name": "python3",
      "display_name": "Python 3"
    },
    "language_info": {
      "name": "python"
    },
    "accelerator": "GPU"
  },
  "cells": [
    {
      "cell_type": "markdown",
      "metadata": {
        "id": "view-in-github",
        "colab_type": "text"
      },
      "source": [
        "<a href=\"https://colab.research.google.com/github/hildazaqya/project-capstone/blob/main/firna/Foodection.ipynb\" target=\"_parent\"><img src=\"https://colab.research.google.com/assets/colab-badge.svg\" alt=\"Open In Colab\"/></a>"
      ]
    },
    {
      "cell_type": "code",
      "execution_count": null,
      "metadata": {
        "colab": {
          "base_uri": "https://localhost:8080/"
        },
        "id": "D6pYbdkPcRvO",
        "outputId": "3aae7b32-b420-4cdd-8b3f-a6fba9c5533c"
      },
      "outputs": [
        {
          "output_type": "stream",
          "name": "stdout",
          "text": [
            "sayfirna miftahul jannah\n"
          ]
        }
      ],
      "source": [
        "name = 'sayfirna miftahul jannah'\n",
        "print(name)"
      ]
    },
    {
      "cell_type": "markdown",
      "source": [
        "# Download Data from Kaggle\n",
        "\n",
        "This data is collect mannually from many website, dan also in the data was captured using a smartphone camera."
      ],
      "metadata": {
        "id": "OI-R74zXnuIc"
      }
    },
    {
      "cell_type": "code",
      "source": [
        "#kaggle\n",
        "!pip install kaggle"
      ],
      "metadata": {
        "colab": {
          "base_uri": "https://localhost:8080/"
        },
        "id": "3SyHgJ7VVD3C",
        "outputId": "783fce31-57fd-441b-b350-aec62555482b"
      },
      "execution_count": 3,
      "outputs": [
        {
          "output_type": "stream",
          "name": "stdout",
          "text": [
            "Requirement already satisfied: kaggle in /usr/local/lib/python3.10/dist-packages (1.5.16)\n",
            "Requirement already satisfied: six>=1.10 in /usr/local/lib/python3.10/dist-packages (from kaggle) (1.16.0)\n",
            "Requirement already satisfied: certifi in /usr/local/lib/python3.10/dist-packages (from kaggle) (2023.7.22)\n",
            "Requirement already satisfied: python-dateutil in /usr/local/lib/python3.10/dist-packages (from kaggle) (2.8.2)\n",
            "Requirement already satisfied: requests in /usr/local/lib/python3.10/dist-packages (from kaggle) (2.31.0)\n",
            "Requirement already satisfied: tqdm in /usr/local/lib/python3.10/dist-packages (from kaggle) (4.66.1)\n",
            "Requirement already satisfied: python-slugify in /usr/local/lib/python3.10/dist-packages (from kaggle) (8.0.1)\n",
            "Requirement already satisfied: urllib3 in /usr/local/lib/python3.10/dist-packages (from kaggle) (2.0.7)\n",
            "Requirement already satisfied: bleach in /usr/local/lib/python3.10/dist-packages (from kaggle) (6.1.0)\n",
            "Requirement already satisfied: webencodings in /usr/local/lib/python3.10/dist-packages (from bleach->kaggle) (0.5.1)\n",
            "Requirement already satisfied: text-unidecode>=1.3 in /usr/local/lib/python3.10/dist-packages (from python-slugify->kaggle) (1.3)\n",
            "Requirement already satisfied: charset-normalizer<4,>=2 in /usr/local/lib/python3.10/dist-packages (from requests->kaggle) (3.3.2)\n",
            "Requirement already satisfied: idna<4,>=2.5 in /usr/local/lib/python3.10/dist-packages (from requests->kaggle) (3.4)\n"
          ]
        }
      ]
    },
    {
      "cell_type": "code",
      "source": [
        "#this file from kaggle API personnal account\n",
        "from google.colab import files\n",
        "\n",
        "# Upload kaggle.json\n",
        "files.upload()"
      ],
      "metadata": {
        "colab": {
          "base_uri": "https://localhost:8080/",
          "height": 90
        },
        "id": "lRK8cY-7Ve62",
        "outputId": "a3999fa9-7ff1-4fb0-ce72-c5f7780fc750"
      },
      "execution_count": 4,
      "outputs": [
        {
          "output_type": "display_data",
          "data": {
            "text/plain": [
              "<IPython.core.display.HTML object>"
            ],
            "text/html": [
              "\n",
              "     <input type=\"file\" id=\"files-c51d2f27-fa80-4660-8e6c-290731751635\" name=\"files[]\" multiple disabled\n",
              "        style=\"border:none\" />\n",
              "     <output id=\"result-c51d2f27-fa80-4660-8e6c-290731751635\">\n",
              "      Upload widget is only available when the cell has been executed in the\n",
              "      current browser session. Please rerun this cell to enable.\n",
              "      </output>\n",
              "      <script>// Copyright 2017 Google LLC\n",
              "//\n",
              "// Licensed under the Apache License, Version 2.0 (the \"License\");\n",
              "// you may not use this file except in compliance with the License.\n",
              "// You may obtain a copy of the License at\n",
              "//\n",
              "//      http://www.apache.org/licenses/LICENSE-2.0\n",
              "//\n",
              "// Unless required by applicable law or agreed to in writing, software\n",
              "// distributed under the License is distributed on an \"AS IS\" BASIS,\n",
              "// WITHOUT WARRANTIES OR CONDITIONS OF ANY KIND, either express or implied.\n",
              "// See the License for the specific language governing permissions and\n",
              "// limitations under the License.\n",
              "\n",
              "/**\n",
              " * @fileoverview Helpers for google.colab Python module.\n",
              " */\n",
              "(function(scope) {\n",
              "function span(text, styleAttributes = {}) {\n",
              "  const element = document.createElement('span');\n",
              "  element.textContent = text;\n",
              "  for (const key of Object.keys(styleAttributes)) {\n",
              "    element.style[key] = styleAttributes[key];\n",
              "  }\n",
              "  return element;\n",
              "}\n",
              "\n",
              "// Max number of bytes which will be uploaded at a time.\n",
              "const MAX_PAYLOAD_SIZE = 100 * 1024;\n",
              "\n",
              "function _uploadFiles(inputId, outputId) {\n",
              "  const steps = uploadFilesStep(inputId, outputId);\n",
              "  const outputElement = document.getElementById(outputId);\n",
              "  // Cache steps on the outputElement to make it available for the next call\n",
              "  // to uploadFilesContinue from Python.\n",
              "  outputElement.steps = steps;\n",
              "\n",
              "  return _uploadFilesContinue(outputId);\n",
              "}\n",
              "\n",
              "// This is roughly an async generator (not supported in the browser yet),\n",
              "// where there are multiple asynchronous steps and the Python side is going\n",
              "// to poll for completion of each step.\n",
              "// This uses a Promise to block the python side on completion of each step,\n",
              "// then passes the result of the previous step as the input to the next step.\n",
              "function _uploadFilesContinue(outputId) {\n",
              "  const outputElement = document.getElementById(outputId);\n",
              "  const steps = outputElement.steps;\n",
              "\n",
              "  const next = steps.next(outputElement.lastPromiseValue);\n",
              "  return Promise.resolve(next.value.promise).then((value) => {\n",
              "    // Cache the last promise value to make it available to the next\n",
              "    // step of the generator.\n",
              "    outputElement.lastPromiseValue = value;\n",
              "    return next.value.response;\n",
              "  });\n",
              "}\n",
              "\n",
              "/**\n",
              " * Generator function which is called between each async step of the upload\n",
              " * process.\n",
              " * @param {string} inputId Element ID of the input file picker element.\n",
              " * @param {string} outputId Element ID of the output display.\n",
              " * @return {!Iterable<!Object>} Iterable of next steps.\n",
              " */\n",
              "function* uploadFilesStep(inputId, outputId) {\n",
              "  const inputElement = document.getElementById(inputId);\n",
              "  inputElement.disabled = false;\n",
              "\n",
              "  const outputElement = document.getElementById(outputId);\n",
              "  outputElement.innerHTML = '';\n",
              "\n",
              "  const pickedPromise = new Promise((resolve) => {\n",
              "    inputElement.addEventListener('change', (e) => {\n",
              "      resolve(e.target.files);\n",
              "    });\n",
              "  });\n",
              "\n",
              "  const cancel = document.createElement('button');\n",
              "  inputElement.parentElement.appendChild(cancel);\n",
              "  cancel.textContent = 'Cancel upload';\n",
              "  const cancelPromise = new Promise((resolve) => {\n",
              "    cancel.onclick = () => {\n",
              "      resolve(null);\n",
              "    };\n",
              "  });\n",
              "\n",
              "  // Wait for the user to pick the files.\n",
              "  const files = yield {\n",
              "    promise: Promise.race([pickedPromise, cancelPromise]),\n",
              "    response: {\n",
              "      action: 'starting',\n",
              "    }\n",
              "  };\n",
              "\n",
              "  cancel.remove();\n",
              "\n",
              "  // Disable the input element since further picks are not allowed.\n",
              "  inputElement.disabled = true;\n",
              "\n",
              "  if (!files) {\n",
              "    return {\n",
              "      response: {\n",
              "        action: 'complete',\n",
              "      }\n",
              "    };\n",
              "  }\n",
              "\n",
              "  for (const file of files) {\n",
              "    const li = document.createElement('li');\n",
              "    li.append(span(file.name, {fontWeight: 'bold'}));\n",
              "    li.append(span(\n",
              "        `(${file.type || 'n/a'}) - ${file.size} bytes, ` +\n",
              "        `last modified: ${\n",
              "            file.lastModifiedDate ? file.lastModifiedDate.toLocaleDateString() :\n",
              "                                    'n/a'} - `));\n",
              "    const percent = span('0% done');\n",
              "    li.appendChild(percent);\n",
              "\n",
              "    outputElement.appendChild(li);\n",
              "\n",
              "    const fileDataPromise = new Promise((resolve) => {\n",
              "      const reader = new FileReader();\n",
              "      reader.onload = (e) => {\n",
              "        resolve(e.target.result);\n",
              "      };\n",
              "      reader.readAsArrayBuffer(file);\n",
              "    });\n",
              "    // Wait for the data to be ready.\n",
              "    let fileData = yield {\n",
              "      promise: fileDataPromise,\n",
              "      response: {\n",
              "        action: 'continue',\n",
              "      }\n",
              "    };\n",
              "\n",
              "    // Use a chunked sending to avoid message size limits. See b/62115660.\n",
              "    let position = 0;\n",
              "    do {\n",
              "      const length = Math.min(fileData.byteLength - position, MAX_PAYLOAD_SIZE);\n",
              "      const chunk = new Uint8Array(fileData, position, length);\n",
              "      position += length;\n",
              "\n",
              "      const base64 = btoa(String.fromCharCode.apply(null, chunk));\n",
              "      yield {\n",
              "        response: {\n",
              "          action: 'append',\n",
              "          file: file.name,\n",
              "          data: base64,\n",
              "        },\n",
              "      };\n",
              "\n",
              "      let percentDone = fileData.byteLength === 0 ?\n",
              "          100 :\n",
              "          Math.round((position / fileData.byteLength) * 100);\n",
              "      percent.textContent = `${percentDone}% done`;\n",
              "\n",
              "    } while (position < fileData.byteLength);\n",
              "  }\n",
              "\n",
              "  // All done.\n",
              "  yield {\n",
              "    response: {\n",
              "      action: 'complete',\n",
              "    }\n",
              "  };\n",
              "}\n",
              "\n",
              "scope.google = scope.google || {};\n",
              "scope.google.colab = scope.google.colab || {};\n",
              "scope.google.colab._files = {\n",
              "  _uploadFiles,\n",
              "  _uploadFilesContinue,\n",
              "};\n",
              "})(self);\n",
              "</script> "
            ]
          },
          "metadata": {}
        },
        {
          "output_type": "stream",
          "name": "stdout",
          "text": [
            "Saving kaggle.json to kaggle.json\n"
          ]
        },
        {
          "output_type": "execute_result",
          "data": {
            "text/plain": [
              "{'kaggle.json': b'{\"username\":\"smjayyy\",\"key\":\"a86a230a085a77cff7a5851725589584\"}'}"
            ]
          },
          "metadata": {},
          "execution_count": 4
        }
      ]
    },
    {
      "cell_type": "code",
      "source": [
        "!mkdir -p ~/.kaggle\n",
        "!cp kaggle.json ~/.kaggle/\n",
        "!chmod 600 ~/.kaggle/kaggle.json"
      ],
      "metadata": {
        "id": "zfwRLtU8VqDo"
      },
      "execution_count": 5,
      "outputs": []
    },
    {
      "cell_type": "code",
      "source": [
        "#link dataset in Kaggle.com\n",
        "!kaggle datasets download -d alinesellwia/foodection-dataset"
      ],
      "metadata": {
        "colab": {
          "base_uri": "https://localhost:8080/"
        },
        "id": "kMHtLv-BV2iY",
        "outputId": "405d77a5-9c93-4a0f-89f4-43733682e4e5"
      },
      "execution_count": 6,
      "outputs": [
        {
          "output_type": "stream",
          "name": "stdout",
          "text": [
            "Downloading foodection-dataset.zip to /content\n",
            " 99% 980M/994M [00:10<00:00, 118MB/s]\n",
            "100% 994M/994M [00:10<00:00, 103MB/s]\n"
          ]
        }
      ]
    },
    {
      "cell_type": "code",
      "source": [
        "#new directory for stores temporary data\n",
        "!mkdir data"
      ],
      "metadata": {
        "id": "rVVWwYaVYQbD"
      },
      "execution_count": 7,
      "outputs": []
    },
    {
      "cell_type": "code",
      "source": [
        "#unzip the data\n",
        "!unzip -q foodection-dataset.zip -d data/datasetfull"
      ],
      "metadata": {
        "id": "fF1_vATyXw2g"
      },
      "execution_count": 8,
      "outputs": []
    },
    {
      "cell_type": "markdown",
      "source": [
        "#Install Library"
      ],
      "metadata": {
        "id": "AoyqkaBdpK-E"
      }
    },
    {
      "cell_type": "code",
      "source": [
        "import tensorflow as tf\n",
        "from tensorflow.keras.preprocessing.image import ImageDataGenerator\n",
        "\n",
        "import os"
      ],
      "metadata": {
        "id": "f97vjDj1efWX"
      },
      "execution_count": 9,
      "outputs": []
    },
    {
      "cell_type": "markdown",
      "source": [
        "#Set the directory to easily navigate to the generator"
      ],
      "metadata": {
        "id": "9cWKpOX8pWwr"
      }
    },
    {
      "cell_type": "code",
      "source": [
        "base_dir= '/content/data/datasetfull/Foodection Dataset'\n",
        "\n",
        "print(\"Contents of base directory:\")\n",
        "print(os.listdir(base_dir))\n",
        "\n",
        "print(\"\\nContents of train directory:\")\n",
        "print(os.listdir(f'{base_dir}/Train'))\n",
        "\n",
        "print(\"\\nContents of validation directory:\")\n",
        "print(os.listdir(f'{base_dir}/Test'))"
      ],
      "metadata": {
        "colab": {
          "base_uri": "https://localhost:8080/"
        },
        "id": "g7mJBJ4XpI6_",
        "outputId": "bb64f535-cd07-4a1f-eb46-10ed62ae71b9"
      },
      "execution_count": 29,
      "outputs": [
        {
          "output_type": "stream",
          "name": "stdout",
          "text": [
            "Contents of base directory:\n",
            "['Train', 'Test']\n",
            "\n",
            "Contents of train directory:\n",
            "['Jeruk Segar', 'Wortel Segar', 'Wortel Segar Sedang ', 'Tomat Busuk', 'Jeruk Segar Sedang', 'Jeruk Busuk', 'Tomat Segar sedang', 'Wortel Busuk', 'Tomat Segar']\n",
            "\n",
            "Contents of validation directory:\n",
            "['Jeruk Segar', 'Wortel Segar', 'Wortel Segar Sedang', 'Tomat Busuk', 'Jeruk Segar Sedang', 'Tomat Segar Sedang', 'Jeruk Busuk', 'Wortel Busuk', 'Tomat Segar']\n"
          ]
        }
      ]
    },
    {
      "cell_type": "code",
      "source": [
        "train_dir = os.path.join(base_dir, 'Train')\n",
        "test_dir = os.path.join(base_dir, 'Test')\n",
        "\n",
        "# Specify class of the directory train\n",
        "train_jeruksegar_dir = os.path.join(train_dir, 'Jeruk Segar')\n",
        "train_wortelsegar_dir = os.path.join(train_dir, 'Wortel Segar')\n",
        "train_wortelsegarsedang_dir = os.path.join(train_dir, 'Wortel Segar Sedang ')\n",
        "train_tomatbusuk_dir = os.path.join(train_dir, 'Tomat Busuk')\n",
        "train_jeruksegarsedang_dir = os.path.join(train_dir, 'Jeruk Segar Sedang')\n",
        "train_jerukbusuk_dir = os.path.join(train_dir, 'Jeruk Busuk')\n",
        "train_wortelbusuk_dir = os.path.join(train_dir, 'Wortel Busuk')\n",
        "train_tomatsegar_dir = os.path.join(train_dir, 'Tomat Segar')\n",
        "train_tomatsegarsedang_dir = os.path.join(train_dir, 'Tomat Segar sedang')\n",
        "\n",
        "# Specify class of the directory test\n",
        "test_jeruksegar_dir = os.path.join(test_dir, 'Jeruk Segar')\n",
        "test_wortelsegar_dir = os.path.join(test_dir, 'Wortel Segar')\n",
        "test_wortelsegarsedang_dir = os.path.join(test_dir, 'Wortel Segar Sedang')\n",
        "test_tomatbusuk_dir = os.path.join(test_dir, 'Tomat Busuk')\n",
        "test_jeruksegarsedang_dir = os.path.join(test_dir, 'Jeruk Segar Sedang')\n",
        "test_jerukbusuk_dir = os.path.join(test_dir, 'Jeruk Busuk')\n",
        "test_wortelbusuk_dir = os.path.join(test_dir, 'Wortel Busuk')\n",
        "test_tomatsegar_dir = os.path.join(test_dir, 'Tomat Segar')\n",
        "test_tomatsegarsedang_dir = os.path.join(test_dir, 'Tomat Segar Sedang')"
      ],
      "metadata": {
        "id": "jmBYNEtKq5NW"
      },
      "execution_count": 34,
      "outputs": []
    },
    {
      "cell_type": "code",
      "source": [
        "train_jeruksegar_fnames = os.listdir(train_jeruksegar_dir)\n",
        "train_wortelsegar_fnames = os.listdir(train_wortelsegar_dir)\n",
        "train_wortelsegarsedang_fnames = os.listdir(train_wortelsegarsedang_dir)\n",
        "train_tomatbusuk_fnames = os.listdir(train_tomatbusuk_dir)\n",
        "train_jeruksegarsedang_fnames = os.listdir(train_jeruksegarsedang_dir)\n",
        "train_jerukbusuk_fnames = os.listdir(train_jerukbusuk_dir)\n",
        "train_wortelbusuk_fnames = os.listdir(train_wortelbusuk_dir)\n",
        "train_tomatsegar_fnames = os.listdir(train_tomatsegar_dir)\n",
        "train_tomatsegarsedang_fnames = os.listdir(train_tomatsegarsedang_dir)\n",
        "\n",
        "print(train_jeruksegar_fnames[:10])\n",
        "print(train_wortelsegar_fnames[:10])"
      ],
      "metadata": {
        "colab": {
          "base_uri": "https://localhost:8080/"
        },
        "id": "viFyMS7psMoP",
        "outputId": "4794f42f-6bdd-4907-9be0-6cadcff832ee"
      },
      "execution_count": 35,
      "outputs": [
        {
          "output_type": "stream",
          "name": "stdout",
          "text": [
            "['jeruk (808).png', 'jeruk (326).png', 'jeruk (355).png', 'jeruk (1081).png', 'jeruk (921).png', 'jeruk (155).png', 'jeruk (1121).png', 'jeruk (750).png', 'jeruk (849).png', 'jeruk (993).png']\n",
            "['1353.jpg', '0963.jpg', '0505.jpg', '1216.jpg', '1013.jpg', '0929.jpg', '0818.jpg', '1139.jpg', '0610.jpg', '1080.jpg']\n"
          ]
        }
      ]
    },
    {
      "cell_type": "code",
      "source": [
        "print('total training jeruk segar images :', len(os.listdir(train_jeruksegar_dir)))\n",
        "print('total training wortel segar images :', len(os.listdir( train_wortelsegar_dir)))\n",
        "print('total training wortel segar sedang images :', len(os.listdir(train_wortelsegarsedang_dir)))\n",
        "print('total training tomat busuk images :', len(os.listdir(train_tomatbusuk_dir)))\n",
        "print('total training jeruk segar sedang images :', len(os.listdir(train_jeruksegarsedang_dir)))\n",
        "print('total training jeruk busuk images :', len(os.listdir(train_jerukbusuk_dir)))\n",
        "print('total training wortel busuk images :', len(os.listdir(train_wortelbusuk_dir)))\n",
        "print('total training tomat segar images :', len(os.listdir(train_tomatsegar_dir)))\n",
        "print('total training tomat segar sedang images :', len(os.listdir(train_tomatsegarsedang_dir)))\n",
        "\n",
        "print('total testing jeruk segar images :', len(os.listdir(test_jeruksegar_dir)))\n",
        "print('total testing wortel segar images :', len(os.listdir(test_wortelsegar_dir)))\n",
        "print('total testing wortel segar sedang images :', len(os.listdir(test_wortelsegarsedang_dir)))\n",
        "print('total testing tomat busuk images :', len(os.listdir(test_tomatbusuk_dir)))\n",
        "print('total testing jeruk segar sedang images :', len(os.listdir(test_jeruksegarsedang_dir)))\n",
        "print('total testing jeruk busuk images :', len(os.listdir(test_jerukbusuk_dir)))\n",
        "print('total testing wortel busuk images :', len(os.listdir(test_wortelbusuk_dir)))\n",
        "print('total testing tomat segar images :', len(os.listdir(test_tomatsegar_dir)))\n",
        "print('total testing tomat segar sedang images :', len(os.listdir(test_tomatsegarsedang_dir)))"
      ],
      "metadata": {
        "colab": {
          "base_uri": "https://localhost:8080/"
        },
        "id": "gcC1bg70vM61",
        "outputId": "61f92ce2-3eb4-4395-f77f-ab8f19437228"
      },
      "execution_count": 36,
      "outputs": [
        {
          "output_type": "stream",
          "name": "stdout",
          "text": [
            "total training jeruk segar images : 1368\n",
            "total training wortel segar images : 1114\n",
            "total training wortel segar sedang images : 106\n",
            "total training tomat busuk images : 1002\n",
            "total training jeruk segar sedang images : 693\n",
            "total training jeruk busuk images : 1280\n",
            "total training wortel busuk images : 183\n",
            "total training tomat segar images : 1185\n",
            "total training tomat segar sedang images : 169\n",
            "total testing jeruk segar images : 317\n",
            "total testing wortel segar images : 279\n",
            "total testing wortel segar sedang images : 40\n",
            "total testing tomat busuk images : 85\n",
            "total testing jeruk segar sedang images : 173\n",
            "total testing jeruk busuk images : 319\n",
            "total testing wortel busuk images : 45\n",
            "total testing tomat segar images : 204\n",
            "total testing tomat segar sedang images : 42\n"
          ]
        }
      ]
    }
  ]
}